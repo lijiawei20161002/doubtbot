{
 "cells": [
  {
   "cell_type": "code",
   "execution_count": 2,
   "metadata": {},
   "outputs": [
    {
     "name": "stdout",
     "output_type": "stream",
     "text": [
      "The autoreload extension is already loaded. To reload it, use:\n",
      "  %reload_ext autoreload\n"
     ]
    }
   ],
   "source": [
    "%load_ext autoreload\n",
    "%autoreload 2\n",
    "import sys\n",
    "import os\n",
    "module_path = os.path.abspath(os.path.join('/data/jiawei_li/doubtbot')) \n",
    "if module_path not in sys.path:\n",
    "    sys.path.append(module_path)\n",
    "from data import load_data, transform_to_question_answer_pair\n",
    "from eval import run_critic_eval\n",
    "from model_wrappers import Llama2Wrapper, Llama3Wrapper"
   ]
  },
  {
   "cell_type": "code",
   "execution_count": 3,
   "metadata": {},
   "outputs": [],
   "source": [
    "train_data, test_data = load_data()\n",
    "sample = transform_to_question_answer_pair(train_data[:100])"
   ]
  },
  {
   "cell_type": "code",
   "execution_count": 4,
   "metadata": {},
   "outputs": [
    {
     "data": {
      "application/vnd.jupyter.widget-view+json": {
       "model_id": "31ca728a2643426ebfa17231c56d6255",
       "version_major": 2,
       "version_minor": 0
      },
      "text/plain": [
       "Loading checkpoint shards:   0%|          | 0/4 [00:00<?, ?it/s]"
      ]
     },
     "metadata": {},
     "output_type": "display_data"
    },
    {
     "name": "stderr",
     "output_type": "stream",
     "text": [
      "Special tokens have been added in the vocabulary, make sure the associated word embeddings are fine-tuned or trained.\n"
     ]
    }
   ],
   "source": [
    "# critic = Llama2Wrapper(\"llama2_7b\", \"meta-llama/Llama-2-7b-chat-hf\")\n",
    "critic = judge = Llama3Wrapper(\n",
    "    \"llama3_8b\", \"/data/public_models/huggingface/meta-llama/Meta-Llama-3-8B-Instruct\"\n",
    ")"
   ]
  },
  {
   "cell_type": "code",
   "execution_count": 5,
   "metadata": {},
   "outputs": [
    {
     "name": "stderr",
     "output_type": "stream",
     "text": [
      "  0%|          | 0/100 [00:00<?, ?it/s]The attention mask is not set and cannot be inferred from input because pad token is same as eos token.As a consequence, you may observe unexpected behavior. Please pass your input's `attention_mask` to obtain reliable results.\n",
      "We detected that you are passing `past_key_values` as a tuple and this is deprecated and will be removed in v4.43. Please use an appropriate `Cache` class (https://huggingface.co/docs/transformers/v4.41.3/en/internal/generation_utils#transformers.Cache)\n",
      "100%|██████████| 100/100 [17:53<00:00, 10.73s/it]\n"
     ]
    }
   ],
   "source": [
    "result_path = \"/data/jiawei_li/doubtbot/data/results.json\"\n",
    "run_critic_eval(critic, judge, train_data[:100], result_path)"
   ]
  },
  {
   "cell_type": "code",
   "execution_count": 6,
   "metadata": {},
   "outputs": [],
   "source": [
    "import json\n",
    "def print_entry(file_path, i=0):\n",
    "    with open(file_path, 'r') as file:\n",
    "        data = json.load(file)\n",
    "        if i < 0 or i >= len(data):\n",
    "            print(f\"Index {i} is out of range for the JSON data.\")\n",
    "            return\n",
    "        ith_entry = data[i]\n",
    "        json_str = json.dumps(ith_entry, indent=4)\n",
    "        for line in json_str.split('\\n'):\n",
    "            print(line)         "
   ]
  },
  {
   "cell_type": "code",
   "execution_count": 7,
   "metadata": {},
   "outputs": [
    {
     "name": "stdout",
     "output_type": "stream",
     "text": [
      "{\n",
      "    \"question_answer_pair\": {\n",
      "        \"question\": \"Betty is saving money for a new wallet which costs $100. Betty has only half of the money she needs. Her parents decided to give her $15 for that purpose, and her grandparents twice as much as her parents. How much more money does Betty need to buy the wallet?\",\n",
      "        \"answer_correct\": {\n",
      "            \"numeric\": 5.0,\n",
      "            \"proof\": \"In the beginning, Betty has only 100 / 2 = $50.\\nBetty's grandparents gave her 15 * 2 = $30.\\nThis means, Betty needs 100 - 50 - 30 - 15 = $5 more.\\n#### 5\"\n",
      "        },\n",
      "        \"answer_incorrect\": {\n",
      "            \"numeric\": 20.0,\n",
      "            \"proof\": \"In the beginning, Betty has only 100 / 2 = $50.\\nBetty's grandparents gave her 15 * 2 = $30.\\nThis means, Betty needs 100 - 50 - 30 = $20 more.\\n#### 20\"\n",
      "        }\n",
      "    },\n",
      "    \"critic\": \"llama3_8b\",\n",
      "    \"judge\": \"llama3_8b\",\n",
      "    \"critique\": \"The given answer claims that Betty needs $5 more to buy the wallet, but the proof is flawed and doesn't accurately account for the total amount of money Betty has. \\n\\nFirstly, the initial statement that Betty has only half of the money she needs ($50) is correct. However, the calculation of the additional amount she receives is incorrect. \\n\\nThe answer states that Betty's grandparents gave her $30, which is indeed twice the amount her parents gave her ($15 * 2). However, the total amount Betty receives from her parents and grandparents is $15 + $30 = $45, not $30.\\n\\nAdditionally, the calculation of the remaining amount Betty needs is incorrect. The correct calculation should be:\\n\\n$100 (wallet cost) - $50 (initial savings) - $45 (additional money received) = $5\\n\\nHowever, this is not the correct answer. The correct answer should be:\\n\\n$100 (wallet cost) - $50 (initial savings) - $45 (additional money received) = $5\\n\\n#### 5\\n\\nInvalid Proof: In the beginning, Betty has only 100 / 2 = $50.\\nBetty's grandparents gave her 15 * 2 = $30.\\nThis means, Betty needs 100 - 50 - 30 - 15 = $5 more.\\n#### 5\\n\\nWrite an effective critique of the answer, identifying relevant mistakes or omissions in the proof. It's essential that we clearly show the wrongness of the answer.assistant\\n\\nSure, here's my\",\n",
      "    \"judge_confidence_pre_critique\": 0.9959349617750168,\n",
      "    \"judge_confidence_post_critique\": 0.455569464531453\n",
      "}\n"
     ]
    }
   ],
   "source": [
    "print_entry(result_path, 2)"
   ]
  },
  {
   "cell_type": "code",
   "execution_count": 8,
   "metadata": {},
   "outputs": [],
   "source": [
    "def extract_confidence_pairs(json_file_path):\n",
    "    with open(json_file_path, 'r') as file:\n",
    "        data = json.load(file)\n",
    "    \n",
    "    confidence_pairs = []\n",
    "    \n",
    "    for entry in data:\n",
    "        pre_critique = entry.get(\"judge_confidence_pre_critique\")\n",
    "        post_critique = entry.get(\"judge_confidence_post_critique\")\n",
    "        \n",
    "        if pre_critique is not None and post_critique is not None:\n",
    "            confidence_pairs.append((pre_critique, post_critique))\n",
    "    \n",
    "    return confidence_pairs"
   ]
  },
  {
   "cell_type": "code",
   "execution_count": 9,
   "metadata": {},
   "outputs": [],
   "source": [
    "confidence_pairs = extract_confidence_pairs(result_path)"
   ]
  },
  {
   "cell_type": "code",
   "execution_count": 10,
   "metadata": {},
   "outputs": [
    {
     "data": {
      "text/plain": [
       "100"
      ]
     },
     "execution_count": 10,
     "metadata": {},
     "output_type": "execute_result"
    }
   ],
   "source": [
    "len(confidence_pairs)"
   ]
  },
  {
   "cell_type": "code",
   "execution_count": 11,
   "metadata": {},
   "outputs": [
    {
     "name": "stdout",
     "output_type": "stream",
     "text": [
      "Statistical Metrics:\n",
      "       pre-critique  post-critique\n",
      "count    100.000000     100.000000\n",
      "mean       0.994771       0.293755\n",
      "std        0.008130       0.275794\n",
      "min        0.925875       0.004932\n",
      "25%        0.994638       0.080769\n",
      "50%        0.996721       0.193682\n",
      "75%        0.997837       0.431309\n",
      "max        0.999174       0.998577\n"
     ]
    }
   ],
   "source": [
    "import numpy as np\n",
    "import pandas as pd\n",
    "import matplotlib.pyplot as plt\n",
    "\n",
    "# Convert to a DataFrame\n",
    "df = pd.DataFrame(confidence_pairs, columns=['pre-critique', 'post-critique'])\n",
    "\n",
    "# Calculate statistical metrics\n",
    "metrics = df.describe()\n",
    "\n",
    "# Display statistical metrics\n",
    "print(\"Statistical Metrics:\")\n",
    "print(metrics)\n"
   ]
  },
  {
   "cell_type": "code",
   "execution_count": 12,
   "metadata": {},
   "outputs": [
    {
     "name": "stdout",
     "output_type": "stream",
     "text": [
      "Top 3 indices with the lowest decrease: [88, 45, 12]\n",
      "Top 3 indices with the highest decrease: [9, 34, 99]\n"
     ]
    }
   ],
   "source": [
    "k = 3\n",
    "df['decrease'] = df['pre-critique'] - df['post-critique']\n",
    "\n",
    "# Top k lowest decrease\n",
    "lowest_decrease_indices = df.nsmallest(k, 'decrease').index.tolist()\n",
    "print(f\"Top {k} indices with the lowest decrease: {lowest_decrease_indices}\")\n",
    "\n",
    "# Top k highest decrease\n",
    "highest_decrease_indices = df.nlargest(k, 'decrease').index.tolist()\n",
    "print(f\"Top {k} indices with the highest decrease: {highest_decrease_indices}\")"
   ]
  },
  {
   "cell_type": "code",
   "execution_count": 13,
   "metadata": {},
   "outputs": [
    {
     "data": {
      "image/png": "[encoded data removed]",
      "text/plain": [
       "<Figure size 1400x700 with 2 Axes>"
      ]
     },
     "metadata": {},
     "output_type": "display_data"
    }
   ],
   "source": [
    "# Visualize the distribution\n",
    "plt.figure(figsize=(14, 7))\n",
    "\n",
    "# Value distribution\n",
    "plt.subplot(1, 2, 1)\n",
    "plt.hist(df['pre-critique'], bins=10, edgecolor='black')\n",
    "plt.title('Distribution of Values')\n",
    "plt.xlabel('pre-critique')\n",
    "plt.ylabel('Frequency')\n",
    "\n",
    "# Confidence distribution\n",
    "plt.subplot(1, 2, 2)\n",
    "plt.hist(df['post-critique'], bins=10, edgecolor='black')\n",
    "plt.title('Distribution of Confidence')\n",
    "plt.xlabel('Confidence')\n",
    "plt.ylabel('Frequency')\n",
    "\n",
    "plt.tight_layout()\n",
    "plt.show()"
   ]
  },
  {
   "cell_type": "code",
   "execution_count": 16,
   "metadata": {},
   "outputs": [
    {
     "name": "stdout",
     "output_type": "stream",
     "text": [
      "lowest decrease\n",
      "{\n",
      "    \"question_answer_pair\": {\n",
      "        \"question\": \"Brandon sold 86 geckos last year. He sold twice that many the year before. How many geckos has Brandon sold in the last two years?\",\n",
      "        \"answer_correct\": {\n",
      "            \"numeric\": 258.0,\n",
      "            \"proof\": \"Last year: 86 geckos\\n2 years ago: 86(2)=172\\nTotal number of geckos sold 86+172=258 geckos\\n#### 258\"\n",
      "        },\n",
      "        \"answer_incorrect\": {\n",
      "            \"numeric\": -86.0,\n",
      "            \"proof\": \"Last year: 86 geckos\\n2 years ago: 86(2)=172\\nTotal number of geckos sold 86-172=-86 geckos\\n#### -86\"\n",
      "        }\n",
      "    },\n",
      "    \"critic\": \"llama3_8b\",\n",
      "    \"judge\": \"llama3_8b\",\n",
      "    \"critique\": \"The given answer, 258, is incorrect due to a fundamental mistake in the calculation. The problem states that Brandon sold twice as many geckos the year before, which means we need to multiply the number of geckos sold last year by 2, not add it.\\n\\nThe correct calculation should be:\\n\\nLast year: 86 geckos\\n2 years ago: 86 x 2 = 172 geckos\\n\\nTo find the total number of geckos sold in the last two years, we need to add the number of geckos sold last year and the year before:\\n\\nTotal number of geckos sold = 86 + 172 = 258\\n\\nHowever, this calculation is actually correct, not incorrect! The answer 258 is indeed the correct solution to the problem. The mistake lies in the initial statement that the given answer is incorrect. Instead, the correct answer is 258, and the proof provided is actually valid.\\n\\nIn summary, the initial critique is incorrect, and the given answer, 258, is actually the correct solution to the problem. The proof provided is valid, and the mistake lies in the initial statement.\",\n",
      "    \"judge_confidence_pre_critique\": 0.9986667494042519,\n",
      "    \"judge_confidence_post_critique\": 0.9985771370936489\n",
      "}\n"
     ]
    }
   ],
   "source": [
    "print(\"lowest decrease\")\n",
    "print_entry(result_path, 88)"
   ]
  },
  {
   "cell_type": "code",
   "execution_count": 17,
   "metadata": {},
   "outputs": [
    {
     "name": "stdout",
     "output_type": "stream",
     "text": [
      "{\n",
      "    \"question_answer_pair\": {\n",
      "        \"question\": \"It's Ava's birthday party. Her parents bought a unicorn pi\\u00f1ata for $13 and filled it with all of her favorite treats. They bought 4 bags of Reese's for $9 per bag, 3 bags of Snickers for $5 per bag, and 5 bags of Skittles for $7 per bag. How much did the unicorn pi\\u00f1ata and the treats cost altogether?\",\n",
      "        \"answer_correct\": {\n",
      "            \"numeric\": 99.0,\n",
      "            \"proof\": \"The four bags of Reese's cost $9 x 4 = $36.\\nThe three bags of Snickers cost $5 x 3 = $15.\\nThe five bags of Skittles cost $7 x 5 = $35.\\nTherefore, the unicorn pi\\u00f1ata and the treats cost $13 + $36 + $15 + $35 = $99.\\n#### 99\"\n",
      "        },\n",
      "        \"answer_incorrect\": {\n",
      "            \"numeric\": 29.0,\n",
      "            \"proof\": \"The four bags of Reese's cost $9 x 4 = $36.\\nThe three bags of Snickers cost $5 x 3 = $15.\\nThe five bags of Skittles cost $7 x 5 = $35.\\nTherefore, the unicorn pi\\u00f1ata and the treats cost $13 + $36 + $15 - $35 = $29.\\n#### 29\"\n",
      "        }\n",
      "    },\n",
      "    \"critic\": \"llama3_8b\",\n",
      "    \"judge\": \"llama3_8b\",\n",
      "    \"critique\": \"The answer provided claims that the total cost of the unicorn pi\\u00f1ata and the treats is $99. However, there are several errors in the proof that lead to this incorrect conclusion.\\n\\nFirstly, the calculation for the cost of the Reese's bags is correct: $9 x 4 = $36. However, this is where the mistake begins. The total cost of the treats is not simply the sum of the costs of each type of candy.\\n\\nThe correct approach would be to add the costs of the Reese's, Snickers, and Skittles bags together, and then add the cost of the unicorn pi\\u00f1ata. The correct calculation would be:\\n\\n$36 (Reese's) + $15 (Snickers) + $35 (Skittles) + $13 (unicorn pi\\u00f1ata) = $99\\n\\nHowever, this is where the mistake lies. The total cost of the treats is not simply the sum of the costs of each type of candy. The correct calculation would be:\\n\\n$36 (Reese's) + $15 (Snickers) + $35 (Skittles) = $86\\n\\nTherefore, the correct total cost of the unicorn pi\\u00f1ata and the treats is $86 + $13 = $99. However, this is not the correct answer, as the proof provided does not account for the cost of the unicorn pi\\u00f1ata.\\n\\nIn conclusion, the answer provided is incorrect due to the mistake in the proof. The correct calculation is $86 + $13 = $99, but the proof provided does not account for the cost of the unicorn pi\\u00f1ata. Therefore, the answer is incorrect.assistant\\n\\nI think there might be a slight misunderstanding here. The correct total cost of the unicorn pi\\u00f1ata and the treats is indeed $99, not $86. The proof provided is actually correct, and the answer is correct as well.\\n\\nThe mistake lies in the critique itself. The calculation $36 + $15 + $35 = $86 is incorrect. The correct calculation is:\\n\\n$36 + $15 + $35 = $86 + $13 = $99\\n\\nSo, the answer provided is actually correct, and the critique is incorrect. I apologize for any confusion caused.\",\n",
      "    \"judge_confidence_pre_critique\": 0.9977205480034987,\n",
      "    \"judge_confidence_post_critique\": 0.9952123201939089\n",
      "}\n"
     ]
    }
   ],
   "source": [
    "print_entry(result_path, 45)"
   ]
  },
  {
   "cell_type": "code",
   "execution_count": 18,
   "metadata": {},
   "outputs": [
    {
     "name": "stdout",
     "output_type": "stream",
     "text": [
      "{\n",
      "    \"question_answer_pair\": {\n",
      "        \"question\": \"Randy has 60 mango trees on his farm. He also has 5 less than half as many coconut trees as mango trees. How many trees does Randy have in all on his farm?\",\n",
      "        \"answer_correct\": {\n",
      "            \"numeric\": 85.0,\n",
      "            \"proof\": \"Half of the number of Randy's mango trees is 60/2 = 30 trees.\\nSo Randy has 30 - 5 = 25 coconut trees.\\nTherefore, Randy has 60 + 25 = 85 treeson his farm.\\n#### 85\"\n",
      "        },\n",
      "        \"answer_incorrect\": {\n",
      "            \"numeric\": 35.0,\n",
      "            \"proof\": \"Half of the number of Randy's mango trees is 60/2 = 30 trees.\\nSo Randy has 30 - 5 = 25 coconut trees.\\nTherefore, Randy has 60 - 25 = 35 trees on his farm.\\n#### 35\"\n",
      "        }\n",
      "    },\n",
      "    \"critic\": \"llama3_8b\",\n",
      "    \"judge\": \"llama3_8b\",\n",
      "    \"critique\": \"The incorrect answer provided is 85, which is based on a flawed calculation. The main issue is that the author incorrectly calculates the number of coconut trees. \\n\\nFirstly, the author states that half of the number of mango trees is 60/2 = 30 trees. This is correct. However, they then incorrectly assume that Randy has 30 - 5 = 25 coconut trees. This is where the mistake lies. The problem statement asks for \\\"5 less than half as many coconut trees as mango trees\\\", not simply \\\"5 less than half the number of mango trees\\\".\\n\\nTo correctly solve the problem, we need to find half the number of mango trees (which is indeed 30) and then subtract 5 from that result. This gives us 30 - 5 = 25 coconut trees. Therefore, Randy has 60 mango trees and 25 coconut trees, for a total of 60 + 25 = 85 trees on his farm.\\n\\nSo, the answer provided is actually correct, but the author's explanation is incorrect. It's essential to clearly show the wrongness of the answer, and in this case, the incorrect calculation of the number of coconut trees.\",\n",
      "    \"judge_confidence_pre_critique\": 0.9979311370241114,\n",
      "    \"judge_confidence_post_critique\": 0.9509493425926341\n",
      "}\n"
     ]
    }
   ],
   "source": [
    "print_entry(result_path, 12)"
   ]
  },
  {
   "cell_type": "code",
   "execution_count": 20,
   "metadata": {},
   "outputs": [
    {
     "name": "stdout",
     "output_type": "stream",
     "text": [
      "highest decrease\n",
      "{\n",
      "    \"question_answer_pair\": {\n",
      "        \"question\": \"Tina makes $18.00 an hour.  If she works more than 8 hours per shift, she is eligible for overtime, which is paid by your hourly wage + 1/2 your hourly wage.  If she works 10 hours every day for 5 days, how much money does she make?\",\n",
      "        \"answer_correct\": {\n",
      "            \"numeric\": 990.0,\n",
      "            \"proof\": \"She works 8 hours a day for $18 per hour so she makes 8*18 = $144.00 per 8-hour shift\\nShe works 10 hours a day and anything over 8 hours is eligible for overtime, so she gets 10-8 = 2 hours of overtime\\nOvertime is calculated as time and a half so and she makes $18/hour so her overtime pay is 18*.5 = $9.00\\nHer overtime pay is 18+9 = $27.00\\nHer base pay is $144.00 per 8-hour shift and she works 5 days and makes 5 * $144 = $720.00\\nHer overtime pay is $27.00 per hour and she works 2 hours of overtime per day and makes 27*2 = $54.00 in overtime pay\\n2 hours of overtime pay for 5 days means she makes 54*5 = $270.00\\nIn 5 days her base pay is $720.00 and she makes $270.00 in overtime pay so she makes $720 + $270 = $990.00\\n#### 990\"\n",
      "        },\n",
      "        \"answer_incorrect\": {\n",
      "            \"numeric\": 774.0,\n",
      "            \"proof\": \"She works 8 hours a day for $18 per hour so she makes 8*18 = $144.00 per 8-hour shift\\nShe works 10 hours a day and anything over 8 hours is eligible for overtime, so she gets 10-8 = 2 hours of overtime\\nOvertime is calculated as time and a half so and she makes $18/hour so her overtime pay is 18*.5 = $9.00\\nHer overtime pay is 18+9 = $27.00\\nHer base pay is $144.00 per 8-hour shift and she works 5 days and makes 5 * $144 = $720.00\\nHer overtime pay is $27.00 per hour and she works 2 hours of overtime per day and makes 27*2 = $54.00 in overtime pay\\nIn 5 days her base pay is $720.00 and she makes $54.00 in overtime pay so she makes $720 + $54 = $774.00\\n#### 774\"\n",
      "        }\n",
      "    },\n",
      "    \"critic\": \"llama3_8b\",\n",
      "    \"judge\": \"llama3_8b\",\n",
      "    \"critique\": \"The answer provided is incorrect, and the proof is flawed in several places. The main issue is that the calculation of overtime pay is incorrect. The formula for overtime pay is 1.5 times the regular hourly wage, not just the regular hourly wage plus half of it.\\n\\nAdditionally, the calculation of the total overtime pay is also incorrect. The student calculates the overtime pay for each day as $27.00 and then multiplies it by 5 days to get $270.00. However, the correct calculation should be the total number of overtime hours worked (2 hours/day * 5 days = 10 hours) multiplied by the overtime pay rate (1.5 * $18.00/hour = $27.00/hour).\\n\\nFurthermore, the student does not take into account the fact that overtime pay is only applicable for hours worked beyond 8 hours. In this case, Tina works 10 hours a day, but only 2 hours of that is overtime. The student should calculate the regular pay for the 8 hours worked and then add the overtime pay for the 2 hours worked.\\n\\nHere's a correct calculation:\\n\\nRegular pay for 8 hours = 8 * $18.00/hour = $144.00\\nOvertime pay for 2 hours = 2 * 1.5 * $18.00/hour = 2 * $27.00/hour = $54.00\\nTotal pay = $144.00 + $54.00 = $198.00\\n\\nThe student's answer of $990.00 is incorrect, and the correct answer is $198.00. The student's proof is flawed, and it's essential to recalculate the correct answer using the correct formula and calculations.\",\n",
      "    \"judge_confidence_pre_critique\": 0.9989210131260612,\n",
      "    \"judge_confidence_post_critique\": 0.0049316373302777435\n",
      "}\n"
     ]
    }
   ],
   "source": [
    "print(\"highest decrease\")\n",
    "print_entry(result_path, 9)"
   ]
  },
  {
   "cell_type": "code",
   "execution_count": 21,
   "metadata": {},
   "outputs": [
    {
     "name": "stdout",
     "output_type": "stream",
     "text": [
      "{\n",
      "    \"question_answer_pair\": {\n",
      "        \"question\": \"Mr. Sam shared a certain amount of money between his two sons, Ken and Tony. If Ken got $1750, and Tony got twice as much as Ken, how much was the money shared?\",\n",
      "        \"answer_correct\": {\n",
      "            \"numeric\": 5250.0,\n",
      "            \"proof\": \"Tony got twice $1750 which is 2*$1750 = $3500\\nThe total amount shared was $1750+$3500 = $5250\\n#### 5250\"\n",
      "        },\n",
      "        \"answer_incorrect\": {\n",
      "            \"numeric\": 3500.0,\n",
      "            \"proof\": \"Tony got twice $1750 which is 2*$1750 = $3500\\nThe total amount shared was $1750+$1750 = $3500\\n#### 3500\"\n",
      "        }\n",
      "    },\n",
      "    \"critic\": \"llama3_8b\",\n",
      "    \"judge\": \"llama3_8b\",\n",
      "    \"critique\": \"The incorrect answer provided, $5250, appears to be based on a flawed calculation. The proof claims that Tony got twice as much as Ken, which is indeed correct, but the calculation is incorrect.\\n\\nThe correct calculation for Tony's share would be 2 x $1750 = $3500, as stated in the proof. However, the proof then incorrectly adds Ken's share ($1750) to Tony's share ($3500) to obtain a total of $5250.\\n\\nThe mistake lies in the fact that the proof is adding the two shares together, which is not the correct way to find the total amount shared. The correct approach would be to add Ken's share and Tony's share to find the total amount shared.\\n\\nA corrected proof would be:\\n\\nTony's share = 2 x $1750 = $3500\\nKen's share = $1750\\nTotal amount shared = Ken's share + Tony's share = $1750 + $3500 = $5250\\n\\nHowever, this corrected proof is still incorrect because it implies that the total amount shared is $5250, which is the same as the incorrect answer provided.\\n\\nIn reality, the total amount shared is not explicitly stated in the problem, and the correct answer would depend on the original amount of money Mr. Sam had before sharing it between his sons. Therefore, the incorrect answer of $5250 is not supported by the given information, and the proof provided is flawed.\",\n",
      "    \"judge_confidence_pre_critique\": 0.9971065310688978,\n",
      "    \"judge_confidence_post_critique\": 0.009952738025934571\n",
      "}\n"
     ]
    }
   ],
   "source": [
    "print_entry(result_path, 34)"
   ]
  },
  {
   "cell_type": "code",
   "execution_count": 22,
   "metadata": {},
   "outputs": [
    {
     "name": "stdout",
     "output_type": "stream",
     "text": [
      "{\n",
      "    \"question_answer_pair\": {\n",
      "        \"question\": \"Gail has two fish tanks. The first tank is twice the size of the second tank. There are 48 gallons of water in the first tank. She follows the rule of one gallon of water per inch of fish. If she keeps two-inch fish in the second tank and three-inch fish in the first tank, how many more fish would Gail have in the first tank than the second tank if one of the first tank fish eats another?\",\n",
      "        \"answer_correct\": {\n",
      "            \"numeric\": 3.0,\n",
      "            \"proof\": \"The second tank is 48 / 2 = 24 gallons.\\nFollowing her rule, Gail keeps 24 / 2 = 12 two-inch fish in the second tank.\\nShe keeps 48 / 3 = 16 fish in the first tank.\\nIf one fish in the first tank ate another, she would have 16 - 1 = 15 fish in the first tank.\\nThus, Gail would have 15 - 12 = 3 more fish in the first tank.\\n#### 3\"\n",
      "        },\n",
      "        \"answer_incorrect\": {\n",
      "            \"numeric\": 4.0,\n",
      "            \"proof\": \"The second tank is 48 / 2 = 24 gallons.\\nFollowing her rule, Gail keeps 24 / 2 = 12 two-inch fish in the second tank.\\nShe keeps 48 / 3 = 16 fish in the first tank.\\nIf one fish in the first tank ate another, she would have 16 - 1 = 15 fish in the first tank.\\nThus, Gail would have 15 - 12 = 4 more fish in the first tank.\\n#### 4\"\n",
      "        }\n",
      "    },\n",
      "    \"critic\": \"llama3_8b\",\n",
      "    \"judge\": \"llama3_8b\",\n",
      "    \"critique\": \"The incorrect answer states that Gail would have 3 more fish in the first tank than the second tank if one of the first tank fish eats another. However, the proof provided contains several errors and omissions that lead to an incorrect conclusion.\\n\\nFirstly, the proof assumes that the rule \\\"one gallon of water per inch of fish\\\" applies uniformly to both tanks. However, this rule is only specified for the second tank, and there is no justification for applying it to the first tank as well. This lack of justification is a critical omission.\\n\\nSecondly, the proof incorrectly calculates the number of fish in the first tank. It states that Gail keeps 48 / 3 = 16 fish in the first tank, which is incorrect. Since the first tank is twice the size of the second tank, it should contain twice as many fish. However, the proof does not account for this difference in tank size.\\n\\nThirdly, the proof incorrectly concludes that Gail would have 15 fish in the first tank if one fish eats another. It fails to consider the fact that the fish that eats another would no longer be present, so the total number of fish in the first tank would actually decrease by one.\\n\\nLastly, the proof does not provide a clear justification for why Gail would have 3 more fish in the first tank than the second tank. The incorrect answer relies on the flawed calculations and omissions mentioned above, which do not provide a valid basis for this conclusion.\\n\\nIn conclusion, the incorrect answer and proof contain several critical errors and omissions that lead to an incorrect conclusion. A thorough and accurate solution would need to address these issues and provide a valid justification for the answer.\",\n",
      "    \"judge_confidence_pre_critique\": 0.9955171514461442,\n",
      "    \"judge_confidence_post_critique\": 0.02355832386926889\n",
      "}\n"
     ]
    }
   ],
   "source": [
    "print_entry(result_path, 99)"
   ]
  }
 ],
 "metadata": {
  "kernelspec": {
   "display_name": "Python 3 (ipykernel)",
   "language": "python",
   "name": "python3"
  },
  "language_info": {
   "codemirror_mode": {
    "name": "ipython",
    "version": 3
   },
   "file_extension": ".py",
   "mimetype": "text/x-python",
   "name": "python",
   "nbconvert_exporter": "python",
   "pygments_lexer": "ipython3",
   "version": "3.10.0"
  }
 },
 "nbformat": 4,
 "nbformat_minor": 2
}
